{
  "metadata": {
    "kernelspec": {
      "language": "python",
      "display_name": "Python 3",
      "name": "python3"
    },
    "language_info": {
      "name": "python",
      "version": "3.11.13",
      "mimetype": "text/x-python",
      "codemirror_mode": {
        "name": "ipython",
        "version": 3
      },
      "pygments_lexer": "ipython3",
      "nbconvert_exporter": "python",
      "file_extension": ".py"
    },
    "kaggle": {
      "accelerator": "none",
      "dataSources": [
        {
          "sourceId": 2327131,
          "sourceType": "datasetVersion",
          "datasetId": 1404394
        },
        {
          "sourceId": 6563377,
          "sourceType": "datasetVersion",
          "datasetId": 3781015
        },
        {
          "sourceId": 9341109,
          "sourceType": "datasetVersion",
          "datasetId": 5660999
        }
      ],
      "dockerImageVersionId": 31089,
      "isInternetEnabled": false,
      "language": "python",
      "sourceType": "notebook",
      "isGpuEnabled": false
    },
    "colab": {
      "provenance": [],
      "include_colab_link": true
    }
  },
  "nbformat_minor": 0,
  "nbformat": 4,
  "cells": [
    {
      "cell_type": "markdown",
      "metadata": {
        "id": "view-in-github",
        "colab_type": "text"
      },
      "source": [
        "<a href=\"https://colab.research.google.com/github/hlee014e/ucsd-mle-bootcamp/blob/main/Credit_risk%EC%9D%98_%EC%82%AC%EB%B3%B8.ipynb\" target=\"_parent\"><img src=\"https://colab.research.google.com/assets/colab-badge.svg\" alt=\"Open In Colab\"/></a>"
      ]
    },
    {
      "source": [
        "# IMPORTANT: RUN THIS CELL IN ORDER TO IMPORT YOUR KAGGLE DATA SOURCES,\n",
        "# THEN FEEL FREE TO DELETE THIS CELL.\n",
        "# NOTE: THIS NOTEBOOK ENVIRONMENT DIFFERS FROM KAGGLE'S PYTHON\n",
        "# ENVIRONMENT SO THERE MAY BE MISSING LIBRARIES USED BY YOUR\n",
        "# NOTEBOOK.\n",
        "import kagglehub\n",
        "ranadeep_credit_risk_dataset_path = kagglehub.dataset_download('ranadeep/credit-risk-dataset')\n",
        "#siddhantsindhkar_credit_risk_path = kagglehub.dataset_download('siddhantsindhkar/credit-risk')\n",
        "#lorenzozoppelletto_financial_risk_for_loan_approval_path = kagglehub.dataset_download('lorenzozoppelletto/financial-risk-for-loan-approval')\n",
        "\n",
        "print('Data source import complete.')\n"
      ],
      "metadata": {
        "id": "g0xvf2vgph3W",
        "outputId": "07640327-ea00-483e-e803-93409c558b78",
        "colab": {
          "base_uri": "https://localhost:8080/"
        }
      },
      "cell_type": "code",
      "outputs": [
        {
          "output_type": "stream",
          "name": "stdout",
          "text": [
            "Using Colab cache for faster access to the 'credit-risk-dataset' dataset.\n",
            "Data source import complete.\n"
          ]
        }
      ],
      "execution_count": null
    },
    {
      "cell_type": "code",
      "source": [
        "# This Python 3 environment comes with many helpful analytics libraries installed\n",
        "# It is defined by the kaggle/python Docker image: https://github.com/kaggle/docker-python\n",
        "# For example, here's several helpful packages to load\n",
        "\n",
        "import numpy as np # linear algebra\n",
        "import pandas as pd # data processing, CSV file I/O (e.g. pd.read_csv)\n",
        "\n",
        "# Input data files are available in the read-only \"../input/\" directory\n",
        "# For example, running this (by clicking run or pressing Shift+Enter) will list all files under the input directory\n",
        "\n",
        "import os\n",
        "for dirname, _, filenames in os.walk('/kaggle/input'):\n",
        "    for filename in filenames:\n",
        "        print(os.path.join(dirname, filename))\n",
        "\n",
        "# You can write up to 20GB to the current directory (/kaggle/working/) that gets preserved as output when you create a version using \"Save & Run All\"\n",
        "# You can also write temporary files to /kaggle/temp/, but they won't be saved outside of the current session"
      ],
      "metadata": {
        "_uuid": "8f2839f25d086af736a60e9eeb907d3b93b6e0e5",
        "_cell_guid": "b1076dfc-b9ad-4769-8c92-a6c4dae69d19",
        "trusted": true,
        "execution": {
          "iopub.status.busy": "2025-08-21T16:46:19.029366Z",
          "iopub.execute_input": "2025-08-21T16:46:19.029672Z",
          "iopub.status.idle": "2025-08-21T16:46:19.781678Z",
          "shell.execute_reply.started": "2025-08-21T16:46:19.02965Z",
          "shell.execute_reply": "2025-08-21T16:46:19.780207Z"
        },
        "id": "PDmo3YBtph3Y",
        "colab": {
          "base_uri": "https://localhost:8080/"
        },
        "outputId": "3939bb35-5af0-4998-c22a-7714695fcc35"
      },
      "outputs": [
        {
          "output_type": "stream",
          "name": "stdout",
          "text": [
            "/kaggle/input/credit-risk-dataset/LCDataDictionary.xlsx\n",
            "/kaggle/input/credit-risk-dataset/loan/loan.csv\n"
          ]
        }
      ],
      "execution_count": null
    },
    {
      "cell_type": "code",
      "source": [
        "import os\n",
        "\n",
        "os.listdir(ranadeep_credit_risk_dataset_path)\n",
        "\n",
        "\n"
      ],
      "metadata": {
        "trusted": true,
        "execution": {
          "iopub.status.busy": "2025-08-21T16:46:19.783915Z",
          "iopub.execute_input": "2025-08-21T16:46:19.784382Z",
          "iopub.status.idle": "2025-08-21T16:46:45.125582Z",
          "shell.execute_reply.started": "2025-08-21T16:46:19.784352Z",
          "shell.execute_reply": "2025-08-21T16:46:45.124631Z"
        },
        "id": "NjFLRj3Sph3Y",
        "outputId": "4d11b5b5-a34e-4cea-baad-bfaad479a483",
        "colab": {
          "base_uri": "https://localhost:8080/"
        }
      },
      "outputs": [
        {
          "output_type": "execute_result",
          "data": {
            "text/plain": [
              "['loan', 'LCDataDictionary.xlsx']"
            ]
          },
          "metadata": {},
          "execution_count": 34
        }
      ],
      "execution_count": null
    },
    {
      "cell_type": "code",
      "source": [
        "import os\n",
        "\n",
        "os.listdir(f\"{ranadeep_credit_risk_dataset_path}/loan\")\n"
      ],
      "metadata": {
        "trusted": true,
        "execution": {
          "iopub.status.busy": "2025-08-21T16:46:45.126519Z",
          "iopub.execute_input": "2025-08-21T16:46:45.12682Z",
          "iopub.status.idle": "2025-08-21T16:46:45.134754Z",
          "shell.execute_reply.started": "2025-08-21T16:46:45.126791Z",
          "shell.execute_reply": "2025-08-21T16:46:45.133707Z"
        },
        "id": "myq5ugtSph3Y",
        "outputId": "bd002ed9-238f-4247-d7ea-99c131b2c17a",
        "colab": {
          "base_uri": "https://localhost:8080/"
        }
      },
      "outputs": [
        {
          "output_type": "execute_result",
          "data": {
            "text/plain": [
              "['loan.csv']"
            ]
          },
          "metadata": {},
          "execution_count": 35
        }
      ],
      "execution_count": null
    },
    {
      "cell_type": "code",
      "source": [
        "df = pd.read_csv(f\"{ranadeep_credit_risk_dataset_path}/loan/loan.csv\",\n",
        "                 low_memory=False,\n",
        "                 dtype={\"desc\": \"string\", \"verification_status_joint\": \"string\"})\n",
        "print(df.head(2))\n"
      ],
      "metadata": {
        "id": "hyr2WpWKvseU",
        "outputId": "46700d92-9684-4ee0-ba39-1d28e13e2f03",
        "colab": {
          "base_uri": "https://localhost:8080/"
        }
      },
      "execution_count": null,
      "outputs": [
        {
          "output_type": "stream",
          "name": "stdout",
          "text": [
            "        id  member_id  loan_amnt  funded_amnt  funded_amnt_inv        term  \\\n",
            "0  1077501    1296599     5000.0       5000.0           4975.0   36 months   \n",
            "1  1077430    1314167     2500.0       2500.0           2500.0   60 months   \n",
            "\n",
            "   int_rate  installment grade sub_grade  ... total_bal_il il_util  \\\n",
            "0     10.65       162.87     B        B2  ...          NaN     NaN   \n",
            "1     15.27        59.83     C        C4  ...          NaN     NaN   \n",
            "\n",
            "  open_rv_12m  open_rv_24m max_bal_bc all_util total_rev_hi_lim inq_fi  \\\n",
            "0         NaN          NaN        NaN      NaN              NaN    NaN   \n",
            "1         NaN          NaN        NaN      NaN              NaN    NaN   \n",
            "\n",
            "  total_cu_tl inq_last_12m  \n",
            "0         NaN          NaN  \n",
            "1         NaN          NaN  \n",
            "\n",
            "[2 rows x 74 columns]\n"
          ]
        }
      ]
    },
    {
      "cell_type": "code",
      "source": [],
      "metadata": {
        "id": "BowTDXowGl8a"
      },
      "execution_count": null,
      "outputs": []
    },
    {
      "cell_type": "code",
      "source": [
        "print(df.columns)"
      ],
      "metadata": {
        "colab": {
          "base_uri": "https://localhost:8080/"
        },
        "id": "QBT_odmi8BoS",
        "outputId": "d9e7ff2e-1ca7-4dd4-bfd7-18072e5e94b7"
      },
      "execution_count": null,
      "outputs": [
        {
          "output_type": "stream",
          "name": "stdout",
          "text": [
            "Index(['id', 'member_id', 'loan_amnt', 'funded_amnt', 'funded_amnt_inv',\n",
            "       'term', 'int_rate', 'installment', 'grade', 'sub_grade', 'emp_title',\n",
            "       'emp_length', 'home_ownership', 'annual_inc', 'verification_status',\n",
            "       'issue_d', 'loan_status', 'pymnt_plan', 'url', 'desc', 'purpose',\n",
            "       'title', 'zip_code', 'addr_state', 'dti', 'delinq_2yrs',\n",
            "       'earliest_cr_line', 'inq_last_6mths', 'mths_since_last_delinq',\n",
            "       'mths_since_last_record', 'open_acc', 'pub_rec', 'revol_bal',\n",
            "       'revol_util', 'total_acc', 'initial_list_status', 'out_prncp',\n",
            "       'out_prncp_inv', 'total_pymnt', 'total_pymnt_inv', 'total_rec_prncp',\n",
            "       'total_rec_int', 'total_rec_late_fee', 'recoveries',\n",
            "       'collection_recovery_fee', 'last_pymnt_d', 'last_pymnt_amnt',\n",
            "       'next_pymnt_d', 'last_credit_pull_d', 'collections_12_mths_ex_med',\n",
            "       'mths_since_last_major_derog', 'policy_code', 'application_type',\n",
            "       'annual_inc_joint', 'dti_joint', 'verification_status_joint',\n",
            "       'acc_now_delinq', 'tot_coll_amt', 'tot_cur_bal', 'open_acc_6m',\n",
            "       'open_il_6m', 'open_il_12m', 'open_il_24m', 'mths_since_rcnt_il',\n",
            "       'total_bal_il', 'il_util', 'open_rv_12m', 'open_rv_24m', 'max_bal_bc',\n",
            "       'all_util', 'total_rev_hi_lim', 'inq_fi', 'total_cu_tl',\n",
            "       'inq_last_12m'],\n",
            "      dtype='object')\n"
          ]
        }
      ]
    },
    {
      "cell_type": "code",
      "source": [
        "print(df['desc'].head(10)) #description of the reason why they borrow the money"
      ],
      "metadata": {
        "colab": {
          "base_uri": "https://localhost:8080/"
        },
        "id": "S2VYTIYC7z1x",
        "outputId": "c7c72e16-79a9-4f1b-bee9-2911e79ea801"
      },
      "execution_count": null,
      "outputs": [
        {
          "output_type": "stream",
          "name": "stdout",
          "text": [
            "0      Borrower added on 12/22/11 > I need to upgra...\n",
            "1      Borrower added on 12/22/11 > I plan to use t...\n",
            "2                                                 <NA>\n",
            "3      Borrower added on 12/21/11 > to pay for prop...\n",
            "4      Borrower added on 12/21/11 > I plan on combi...\n",
            "5                                                 <NA>\n",
            "6      Borrower added on 12/18/11 > I am planning o...\n",
            "7      Borrower added on 12/16/11 > Downpayment for...\n",
            "8      Borrower added on 12/21/11 > I own a small h...\n",
            "9      Borrower added on 12/16/11 > I'm trying to b...\n",
            "Name: desc, dtype: string\n"
          ]
        }
      ]
    },
    {
      "cell_type": "code",
      "source": [
        "# Calculate missing counts and rates for all features\n",
        "missing_summary = (\n",
        "    df.isna().sum()\n",
        "      .to_frame(name=\"missing_count\")\n",
        "      .assign(missing_rate=lambda x: x[\"missing_count\"] / len(df))\n",
        "      .sort_values(\"missing_rate\", ascending=False)\n",
        ")\n",
        "\n",
        "print(missing_summary.head(30))   # show top 30 features by missingness\n"
      ],
      "metadata": {
        "colab": {
          "base_uri": "https://localhost:8080/"
        },
        "id": "JGgfEpXI-79A",
        "outputId": "7380ef73-9919-4ebf-d637-cf9cc728ea94"
      },
      "execution_count": null,
      "outputs": [
        {
          "output_type": "stream",
          "name": "stdout",
          "text": [
            "                             missing_count  missing_rate\n",
            "dti_joint                           886870      0.999426\n",
            "annual_inc_joint                    886868      0.999424\n",
            "verification_status_joint           886868      0.999424\n",
            "il_util                             868762      0.979020\n",
            "mths_since_rcnt_il                  866569      0.976549\n",
            "inq_fi                              866007      0.975916\n",
            "open_rv_24m                         866007      0.975916\n",
            "open_acc_6m                         866007      0.975916\n",
            "all_util                            866007      0.975916\n",
            "inq_last_12m                        866007      0.975916\n",
            "total_cu_tl                         866007      0.975916\n",
            "open_il_12m                         866007      0.975916\n",
            "max_bal_bc                          866007      0.975916\n",
            "open_il_6m                          866007      0.975916\n",
            "open_il_24m                         866007      0.975916\n",
            "open_rv_12m                         866007      0.975916\n",
            "total_bal_il                        866007      0.975916\n",
            "desc                                761353      0.857980\n",
            "mths_since_last_record              750326      0.845553\n",
            "mths_since_last_major_derog         665676      0.750160\n",
            "mths_since_last_delinq              454312      0.511971\n",
            "next_pymnt_d                        252971      0.285077\n",
            "total_rev_hi_lim                     70276      0.079195\n",
            "tot_cur_bal                          70276      0.079195\n",
            "tot_coll_amt                         70276      0.079195\n",
            "emp_title                            51462      0.057993\n",
            "emp_length                           44825      0.050514\n",
            "last_pymnt_d                         17659      0.019900\n",
            "revol_util                             502      0.000566\n",
            "title                                  153      0.000172\n"
          ]
        }
      ]
    },
    {
      "cell_type": "code",
      "source": [
        "df['loan_status'].unique()"
      ],
      "metadata": {
        "colab": {
          "base_uri": "https://localhost:8080/"
        },
        "id": "1_wYdMbyb3aF",
        "outputId": "4636f6fc-2971-4418-f18d-a666d06625a6"
      },
      "execution_count": null,
      "outputs": [
        {
          "output_type": "execute_result",
          "data": {
            "text/plain": [
              "array(['Fully Paid', 'Charged Off', 'Current', 'Default',\n",
              "       'Late (31-120 days)', 'In Grace Period', 'Late (16-30 days)',\n",
              "       'Does not meet the credit policy. Status:Fully Paid',\n",
              "       'Does not meet the credit policy. Status:Charged Off', 'Issued'],\n",
              "      dtype=object)"
            ]
          },
          "metadata": {},
          "execution_count": 40
        }
      ]
    },
    {
      "cell_type": "code",
      "source": [
        "df['loan_status'].value_counts()"
      ],
      "metadata": {
        "colab": {
          "base_uri": "https://localhost:8080/",
          "height": 429
        },
        "id": "z2g1Q9XoG0gk",
        "outputId": "59264fe4-7e53-43a3-9977-a770a539ce5a"
      },
      "execution_count": null,
      "outputs": [
        {
          "output_type": "execute_result",
          "data": {
            "text/plain": [
              "loan_status\n",
              "Current                                                601779\n",
              "Fully Paid                                             207723\n",
              "Charged Off                                             45248\n",
              "Late (31-120 days)                                      11591\n",
              "Issued                                                   8460\n",
              "In Grace Period                                          6253\n",
              "Late (16-30 days)                                        2357\n",
              "Does not meet the credit policy. Status:Fully Paid       1988\n",
              "Default                                                  1219\n",
              "Does not meet the credit policy. Status:Charged Off       761\n",
              "Name: count, dtype: int64"
            ],
            "text/html": [
              "<div>\n",
              "<style scoped>\n",
              "    .dataframe tbody tr th:only-of-type {\n",
              "        vertical-align: middle;\n",
              "    }\n",
              "\n",
              "    .dataframe tbody tr th {\n",
              "        vertical-align: top;\n",
              "    }\n",
              "\n",
              "    .dataframe thead th {\n",
              "        text-align: right;\n",
              "    }\n",
              "</style>\n",
              "<table border=\"1\" class=\"dataframe\">\n",
              "  <thead>\n",
              "    <tr style=\"text-align: right;\">\n",
              "      <th></th>\n",
              "      <th>count</th>\n",
              "    </tr>\n",
              "    <tr>\n",
              "      <th>loan_status</th>\n",
              "      <th></th>\n",
              "    </tr>\n",
              "  </thead>\n",
              "  <tbody>\n",
              "    <tr>\n",
              "      <th>Current</th>\n",
              "      <td>601779</td>\n",
              "    </tr>\n",
              "    <tr>\n",
              "      <th>Fully Paid</th>\n",
              "      <td>207723</td>\n",
              "    </tr>\n",
              "    <tr>\n",
              "      <th>Charged Off</th>\n",
              "      <td>45248</td>\n",
              "    </tr>\n",
              "    <tr>\n",
              "      <th>Late (31-120 days)</th>\n",
              "      <td>11591</td>\n",
              "    </tr>\n",
              "    <tr>\n",
              "      <th>Issued</th>\n",
              "      <td>8460</td>\n",
              "    </tr>\n",
              "    <tr>\n",
              "      <th>In Grace Period</th>\n",
              "      <td>6253</td>\n",
              "    </tr>\n",
              "    <tr>\n",
              "      <th>Late (16-30 days)</th>\n",
              "      <td>2357</td>\n",
              "    </tr>\n",
              "    <tr>\n",
              "      <th>Does not meet the credit policy. Status:Fully Paid</th>\n",
              "      <td>1988</td>\n",
              "    </tr>\n",
              "    <tr>\n",
              "      <th>Default</th>\n",
              "      <td>1219</td>\n",
              "    </tr>\n",
              "    <tr>\n",
              "      <th>Does not meet the credit policy. Status:Charged Off</th>\n",
              "      <td>761</td>\n",
              "    </tr>\n",
              "  </tbody>\n",
              "</table>\n",
              "</div><br><label><b>dtype:</b> int64</label>"
            ]
          },
          "metadata": {},
          "execution_count": 41
        }
      ]
    },
    {
      "cell_type": "code",
      "source": [
        "df['open_acc_6m'].value_counts()"
      ],
      "metadata": {
        "colab": {
          "base_uri": "https://localhost:8080/",
          "height": 523
        },
        "id": "dEt9on-9gmZk",
        "outputId": "95ed2ef7-ec38-48d9-c117-038c4ba34613"
      },
      "execution_count": null,
      "outputs": [
        {
          "output_type": "execute_result",
          "data": {
            "text/plain": [
              "open_acc_6m\n",
              "0.0     8246\n",
              "1.0     6808\n",
              "2.0     3752\n",
              "3.0     1572\n",
              "4.0      593\n",
              "5.0      232\n",
              "6.0      104\n",
              "7.0       37\n",
              "8.0       13\n",
              "9.0        7\n",
              "10.0       4\n",
              "14.0       2\n",
              "12.0       2\n",
              "Name: count, dtype: int64"
            ],
            "text/html": [
              "<div>\n",
              "<style scoped>\n",
              "    .dataframe tbody tr th:only-of-type {\n",
              "        vertical-align: middle;\n",
              "    }\n",
              "\n",
              "    .dataframe tbody tr th {\n",
              "        vertical-align: top;\n",
              "    }\n",
              "\n",
              "    .dataframe thead th {\n",
              "        text-align: right;\n",
              "    }\n",
              "</style>\n",
              "<table border=\"1\" class=\"dataframe\">\n",
              "  <thead>\n",
              "    <tr style=\"text-align: right;\">\n",
              "      <th></th>\n",
              "      <th>count</th>\n",
              "    </tr>\n",
              "    <tr>\n",
              "      <th>open_acc_6m</th>\n",
              "      <th></th>\n",
              "    </tr>\n",
              "  </thead>\n",
              "  <tbody>\n",
              "    <tr>\n",
              "      <th>0.0</th>\n",
              "      <td>8246</td>\n",
              "    </tr>\n",
              "    <tr>\n",
              "      <th>1.0</th>\n",
              "      <td>6808</td>\n",
              "    </tr>\n",
              "    <tr>\n",
              "      <th>2.0</th>\n",
              "      <td>3752</td>\n",
              "    </tr>\n",
              "    <tr>\n",
              "      <th>3.0</th>\n",
              "      <td>1572</td>\n",
              "    </tr>\n",
              "    <tr>\n",
              "      <th>4.0</th>\n",
              "      <td>593</td>\n",
              "    </tr>\n",
              "    <tr>\n",
              "      <th>5.0</th>\n",
              "      <td>232</td>\n",
              "    </tr>\n",
              "    <tr>\n",
              "      <th>6.0</th>\n",
              "      <td>104</td>\n",
              "    </tr>\n",
              "    <tr>\n",
              "      <th>7.0</th>\n",
              "      <td>37</td>\n",
              "    </tr>\n",
              "    <tr>\n",
              "      <th>8.0</th>\n",
              "      <td>13</td>\n",
              "    </tr>\n",
              "    <tr>\n",
              "      <th>9.0</th>\n",
              "      <td>7</td>\n",
              "    </tr>\n",
              "    <tr>\n",
              "      <th>10.0</th>\n",
              "      <td>4</td>\n",
              "    </tr>\n",
              "    <tr>\n",
              "      <th>14.0</th>\n",
              "      <td>2</td>\n",
              "    </tr>\n",
              "    <tr>\n",
              "      <th>12.0</th>\n",
              "      <td>2</td>\n",
              "    </tr>\n",
              "  </tbody>\n",
              "</table>\n",
              "</div><br><label><b>dtype:</b> int64</label>"
            ]
          },
          "metadata": {},
          "execution_count": 42
        }
      ]
    },
    {
      "cell_type": "code",
      "source": [
        "df['dti'].value_counts()"
      ],
      "metadata": {
        "colab": {
          "base_uri": "https://localhost:8080/",
          "height": 490
        },
        "id": "NU_X66hihkot",
        "outputId": "2e306bc3-9e2d-4d8a-f72f-5f2e65fc7345"
      },
      "execution_count": null,
      "outputs": [
        {
          "output_type": "execute_result",
          "data": {
            "text/plain": [
              "dti\n",
              "19.20    684\n",
              "14.40    674\n",
              "18.00    661\n",
              "13.20    638\n",
              "16.80    632\n",
              "        ... \n",
              "54.36      1\n",
              "48.91      1\n",
              "45.77      1\n",
              "55.10      1\n",
              "59.19      1\n",
              "Name: count, Length: 4086, dtype: int64"
            ],
            "text/html": [
              "<div>\n",
              "<style scoped>\n",
              "    .dataframe tbody tr th:only-of-type {\n",
              "        vertical-align: middle;\n",
              "    }\n",
              "\n",
              "    .dataframe tbody tr th {\n",
              "        vertical-align: top;\n",
              "    }\n",
              "\n",
              "    .dataframe thead th {\n",
              "        text-align: right;\n",
              "    }\n",
              "</style>\n",
              "<table border=\"1\" class=\"dataframe\">\n",
              "  <thead>\n",
              "    <tr style=\"text-align: right;\">\n",
              "      <th></th>\n",
              "      <th>count</th>\n",
              "    </tr>\n",
              "    <tr>\n",
              "      <th>dti</th>\n",
              "      <th></th>\n",
              "    </tr>\n",
              "  </thead>\n",
              "  <tbody>\n",
              "    <tr>\n",
              "      <th>19.20</th>\n",
              "      <td>684</td>\n",
              "    </tr>\n",
              "    <tr>\n",
              "      <th>14.40</th>\n",
              "      <td>674</td>\n",
              "    </tr>\n",
              "    <tr>\n",
              "      <th>18.00</th>\n",
              "      <td>661</td>\n",
              "    </tr>\n",
              "    <tr>\n",
              "      <th>13.20</th>\n",
              "      <td>638</td>\n",
              "    </tr>\n",
              "    <tr>\n",
              "      <th>16.80</th>\n",
              "      <td>632</td>\n",
              "    </tr>\n",
              "    <tr>\n",
              "      <th>...</th>\n",
              "      <td>...</td>\n",
              "    </tr>\n",
              "    <tr>\n",
              "      <th>54.36</th>\n",
              "      <td>1</td>\n",
              "    </tr>\n",
              "    <tr>\n",
              "      <th>48.91</th>\n",
              "      <td>1</td>\n",
              "    </tr>\n",
              "    <tr>\n",
              "      <th>45.77</th>\n",
              "      <td>1</td>\n",
              "    </tr>\n",
              "    <tr>\n",
              "      <th>55.10</th>\n",
              "      <td>1</td>\n",
              "    </tr>\n",
              "    <tr>\n",
              "      <th>59.19</th>\n",
              "      <td>1</td>\n",
              "    </tr>\n",
              "  </tbody>\n",
              "</table>\n",
              "<p>4086 rows × 1 columns</p>\n",
              "</div><br><label><b>dtype:</b> int64</label>"
            ]
          },
          "metadata": {},
          "execution_count": 43
        }
      ]
    },
    {
      "cell_type": "code",
      "source": [
        "df['dti'].isna().sum() #in other words, no missing value on dti=monthly_debt/monthly_income"
      ],
      "metadata": {
        "colab": {
          "base_uri": "https://localhost:8080/"
        },
        "id": "hmc__qcGh0v0",
        "outputId": "81eb112c-38fe-4ee4-effe-7b1aabcc6aa3"
      },
      "execution_count": null,
      "outputs": [
        {
          "output_type": "execute_result",
          "data": {
            "text/plain": [
              "np.int64(0)"
            ]
          },
          "metadata": {},
          "execution_count": 44
        }
      ]
    },
    {
      "cell_type": "code",
      "source": [
        "import pandas as pd\n",
        "import numpy as np\n",
        "\n",
        "# ---------- 1) Define target (adjust to your labels) ----------\n",
        "# Example mapping for LendingClub-style data:\n",
        "BAD_LABELS = {'Charged Off','Default','Late (31-120 days)'}\n",
        "GOOD_LABELS = {'Fully Paid'}\n",
        "# Everything else will be ignored or treated as \"other\" (you can customize)\n",
        "\n",
        "def map_loan_status(x):\n",
        "    if x in BAD_LABELS: return 1\n",
        "    if x in GOOD_LABELS: return 0\n",
        "    return np.nan  # drop unknown statuses for IV calc\n",
        "\n",
        "df = df.copy()\n",
        "df['target_bad'] = df['loan_status'].map(map_loan_status)\n",
        "df = df.dropna(subset=['target_bad']).reset_index(drop=True)\n",
        "df['target_bad'] = df['target_bad'].astype(int)\n",
        "\n",
        "# ---------- 2) Columns to ignore (IDs, clear leakage/post-origination) ----------\n",
        "IGNORE = {\n",
        "    'id','member_id','loan_status','target_bad',\n",
        "    'out_prncp','out_prncp_inv','total_pymnt','total_pymnt_inv',\n",
        "    'total_rec_prncp','total_rec_int','total_rec_late_fee',\n",
        "    'recoveries','collection_recovery_fee','last_pymnt_d','last_pymnt_amnt',\n",
        "    'next_pymnt_d','last_credit_pull_d','pymnt_plan','url','desc','title','zip_code','sub_grade'\n",
        "}\n",
        "#\n",
        "\n",
        "# ---------- 3) IV / WOE utilities ----------\n",
        "EPS = 1e-6  # smoothing to avoid div-by-zero / log(0)\n",
        "\n",
        "def _bin_numeric_with_missing(s: pd.Series, bins=5):\n",
        "    \"\"\"\n",
        "    Quantile-bin numeric features on their REAL values (not ranks),\n",
        "    keep NaNs as 'MISSING', and return a categorical Series of the same length.\n",
        "    Guarantees each row belongs to exactly one bin or 'MISSING'.\n",
        "    \"\"\"\n",
        "    s = s.copy()\n",
        "    mask = s.notna()\n",
        "    n_nonmiss = int(mask.sum())\n",
        "\n",
        "    # If everything is missing → return all 'MISSING'\n",
        "    if n_nonmiss == 0:\n",
        "        return pd.Series(['MISSING'] * len(s), index=s.index, dtype=\"object\")\n",
        "\n",
        "    # How many distinct non-missing values do we have?\n",
        "    uniq = s[mask].nunique(dropna=True)\n",
        "    nbins = max(1, min(int(bins), int(uniq)))  # can't have more bins than unique values\n",
        "\n",
        "    # Try quantile binning on REAL values\n",
        "    binned = None\n",
        "    try:\n",
        "        # duplicates='drop' lets qcut reduce the bin count if quantile edges coincide\n",
        "        binned = pd.qcut(s[mask], q=nbins, duplicates='drop')\n",
        "    except Exception:\n",
        "        # Fallback 1: try fewer bins\n",
        "        tried = False\n",
        "        for q in range(min(nbins, 10), 1, -1):\n",
        "            try:\n",
        "                binned = pd.qcut(s[mask], q=q, duplicates='drop')\n",
        "                tried = True\n",
        "                break\n",
        "            except Exception:\n",
        "                continue\n",
        "        # Fallback 2: equal-width bins if even quantiles failed\n",
        "        if not tried or binned is None:\n",
        "            try:\n",
        "                binned = pd.cut(s[mask], bins=min(nbins, 10))\n",
        "            except Exception:\n",
        "                # Last resort: put all non-missing into one bucket\n",
        "                binned = pd.Series(['BIN_ALL'] * n_nonmiss, index=s[mask].index, dtype=\"object\")\n",
        "\n",
        "    # Build output: non-missing get their bin label; missing → 'MISSING'\n",
        "    out = pd.Series(index=s.index, dtype=\"object\")\n",
        "    out[mask] = binned.astype(str)\n",
        "    out[~mask] = 'MISSING'\n",
        "\n",
        "    return out\n",
        "\n",
        "\n",
        "def _bin_categorical_with_missing(s: pd.Series, max_levels=50):\n",
        "    \"\"\"Use categories directly; collapse rare levels; keep NaN as 'MISSING'.\"\"\"\n",
        "    s = s.astype('string')\n",
        "    s = s.fillna('MISSING')\n",
        "    # collapse rare levels if too many categories\n",
        "    vc = s.value_counts(dropna=False)\n",
        "       #nan values를 드랍하지 않음. 즉 고려함.\n",
        "    if len(vc) > max_levels:\n",
        "        keep = set(vc.nlargest(max_levels - 1).index)  # leave 1 slot for 'OTHER'\n",
        "        s = s.where(s.isin(keep), other='OTHER')\n",
        "    return s\n",
        "    #빈도수가 많은것들 50개만 킵하고 나머지는 다 'Other'로.\n",
        "\n",
        "def woe_iv_for_binned(bins: pd.Series, y: pd.Series) -> pd.DataFrame:\n",
        "    \"\"\"Compute WOE/IV per bin + total IV.\"\"\"\n",
        "    g = (\n",
        "        pd.DataFrame({'bin': bins, 'y': y})\n",
        "        .groupby('bin', dropna=False)['y']\n",
        "        .agg(event='sum', total='count')\n",
        "        .reset_index()\n",
        "    ) #y is a target values. y=1: event happens: Bad event, in other words, as defaulted(get loan but didnt pay it)\n",
        "    g['non_event'] = g['total'] - g['event']\n",
        "    # distributions\n",
        "    total_event = g['event'].sum()\n",
        "    total_nonevent = g['non_event'].sum()\n",
        "    g['dist_event'] = (g['event'] + EPS) / (total_event + 2*EPS)\n",
        "    g['dist_nonevent'] = (g['non_event'] + EPS) / (total_nonevent + 2*EPS)\n",
        "    #EPS;epsilon^^ since we want 'no division by zero', EPS is already defined above.\n",
        "    # woe & iv\n",
        "    g['woe'] = np.log(g['dist_event'] / g['dist_nonevent'])\n",
        "    #Weight of Evidence\n",
        "    g['iv']  = (g['dist_event'] - g['dist_nonevent']) * g['woe']\n",
        "    #information Value, which is always positive by definition. >=0.3 Strong\n",
        "    g = g.sort_values('woe').reset_index(drop=True)\n",
        "    g.attrs['iv_total'] = float(g['iv'].sum())\n",
        "    return g\n",
        "\n",
        "def calc_iv(df: pd.DataFrame, feature: str, target: str, bins=10, max_levels=50):\n",
        "    s = df[feature]\n",
        "    if pd.api.types.is_numeric_dtype(s):\n",
        "        b = _bin_numeric_with_missing(s, bins=bins)\n",
        "    else:\n",
        "        b = _bin_categorical_with_missing(s, max_levels=max_levels)\n",
        "    return woe_iv_for_binned(b, df[target])\n",
        "\n",
        "# ---------- 4) Run IV over all features ----------\n",
        "iv_results = {}\n",
        "woe_tables = {}   # keep detailed tables if you want to inspect later\n",
        "\n",
        "for col in df.columns:\n",
        "    if col in IGNORE:\n",
        "        continue\n",
        "    try:\n",
        "        wt = calc_iv(df, col, 'target_bad', bins=10, max_levels=50)\n",
        "        iv_total = wt.attrs['iv_total']\n",
        "        iv_results[col] = iv_total\n",
        "        woe_tables[col] = wt\n",
        "    except Exception as e:\n",
        "        # some columns (e.g., all-NaN) will fail gracefully\n",
        "        pass\n",
        "\n",
        "iv_sorted = pd.Series(iv_results).sort_values(ascending=False)\n",
        "iv_sorted.head(40)\n"
      ],
      "metadata": {
        "colab": {
          "base_uri": "https://localhost:8080/",
          "height": 1000
        },
        "id": "eXP8l-pYEUu5",
        "outputId": "b1c95638-f3c3-40a9-b706-ac6b4245f4f4"
      },
      "execution_count": null,
      "outputs": [
        {
          "output_type": "execute_result",
          "data": {
            "text/plain": [
              "int_rate                       0.408890\n",
              "grade                          0.401221\n",
              "term                           0.151475\n",
              "dti                            0.103149\n",
              "issue_d                        0.083972\n",
              "tot_cur_bal                    0.074537\n",
              "revol_util                     0.064370\n",
              "total_rev_hi_lim               0.060932\n",
              "annual_inc                     0.048269\n",
              "verification_status            0.044882\n",
              "tot_coll_amt                   0.042445\n",
              "funded_amnt                    0.033374\n",
              "funded_amnt_inv                0.033011\n",
              "loan_amnt                      0.032962\n",
              "installment                    0.027289\n",
              "emp_title                      0.024245\n",
              "purpose                        0.022627\n",
              "home_ownership                 0.019145\n",
              "addr_state                     0.017910\n",
              "emp_length                     0.011912\n",
              "open_il_12m                    0.011675\n",
              "inq_fi                         0.011579\n",
              "open_acc_6m                    0.011388\n",
              "total_cu_tl                    0.011375\n",
              "open_rv_12m                    0.011325\n",
              "open_il_24m                    0.011247\n",
              "open_il_6m                     0.010996\n",
              "inq_last_12m                   0.010847\n",
              "open_rv_24m                    0.010836\n",
              "total_bal_il                   0.010640\n",
              "max_bal_bc                     0.010544\n",
              "all_util                       0.010544\n",
              "inq_last_6mths                 0.010484\n",
              "mths_since_rcnt_il             0.010262\n",
              "il_util                        0.009145\n",
              "mths_since_last_major_derog    0.005777\n",
              "mths_since_last_delinq         0.005753\n",
              "total_acc                      0.005050\n",
              "revol_bal                      0.004644\n",
              "initial_list_status            0.004452\n",
              "dtype: float64"
            ],
            "text/html": [
              "<div>\n",
              "<style scoped>\n",
              "    .dataframe tbody tr th:only-of-type {\n",
              "        vertical-align: middle;\n",
              "    }\n",
              "\n",
              "    .dataframe tbody tr th {\n",
              "        vertical-align: top;\n",
              "    }\n",
              "\n",
              "    .dataframe thead th {\n",
              "        text-align: right;\n",
              "    }\n",
              "</style>\n",
              "<table border=\"1\" class=\"dataframe\">\n",
              "  <thead>\n",
              "    <tr style=\"text-align: right;\">\n",
              "      <th></th>\n",
              "      <th>0</th>\n",
              "    </tr>\n",
              "  </thead>\n",
              "  <tbody>\n",
              "    <tr>\n",
              "      <th>int_rate</th>\n",
              "      <td>0.408890</td>\n",
              "    </tr>\n",
              "    <tr>\n",
              "      <th>grade</th>\n",
              "      <td>0.401221</td>\n",
              "    </tr>\n",
              "    <tr>\n",
              "      <th>term</th>\n",
              "      <td>0.151475</td>\n",
              "    </tr>\n",
              "    <tr>\n",
              "      <th>dti</th>\n",
              "      <td>0.103149</td>\n",
              "    </tr>\n",
              "    <tr>\n",
              "      <th>issue_d</th>\n",
              "      <td>0.083972</td>\n",
              "    </tr>\n",
              "    <tr>\n",
              "      <th>tot_cur_bal</th>\n",
              "      <td>0.074537</td>\n",
              "    </tr>\n",
              "    <tr>\n",
              "      <th>revol_util</th>\n",
              "      <td>0.064370</td>\n",
              "    </tr>\n",
              "    <tr>\n",
              "      <th>total_rev_hi_lim</th>\n",
              "      <td>0.060932</td>\n",
              "    </tr>\n",
              "    <tr>\n",
              "      <th>annual_inc</th>\n",
              "      <td>0.048269</td>\n",
              "    </tr>\n",
              "    <tr>\n",
              "      <th>verification_status</th>\n",
              "      <td>0.044882</td>\n",
              "    </tr>\n",
              "    <tr>\n",
              "      <th>tot_coll_amt</th>\n",
              "      <td>0.042445</td>\n",
              "    </tr>\n",
              "    <tr>\n",
              "      <th>funded_amnt</th>\n",
              "      <td>0.033374</td>\n",
              "    </tr>\n",
              "    <tr>\n",
              "      <th>funded_amnt_inv</th>\n",
              "      <td>0.033011</td>\n",
              "    </tr>\n",
              "    <tr>\n",
              "      <th>loan_amnt</th>\n",
              "      <td>0.032962</td>\n",
              "    </tr>\n",
              "    <tr>\n",
              "      <th>installment</th>\n",
              "      <td>0.027289</td>\n",
              "    </tr>\n",
              "    <tr>\n",
              "      <th>emp_title</th>\n",
              "      <td>0.024245</td>\n",
              "    </tr>\n",
              "    <tr>\n",
              "      <th>purpose</th>\n",
              "      <td>0.022627</td>\n",
              "    </tr>\n",
              "    <tr>\n",
              "      <th>home_ownership</th>\n",
              "      <td>0.019145</td>\n",
              "    </tr>\n",
              "    <tr>\n",
              "      <th>addr_state</th>\n",
              "      <td>0.017910</td>\n",
              "    </tr>\n",
              "    <tr>\n",
              "      <th>emp_length</th>\n",
              "      <td>0.011912</td>\n",
              "    </tr>\n",
              "    <tr>\n",
              "      <th>open_il_12m</th>\n",
              "      <td>0.011675</td>\n",
              "    </tr>\n",
              "    <tr>\n",
              "      <th>inq_fi</th>\n",
              "      <td>0.011579</td>\n",
              "    </tr>\n",
              "    <tr>\n",
              "      <th>open_acc_6m</th>\n",
              "      <td>0.011388</td>\n",
              "    </tr>\n",
              "    <tr>\n",
              "      <th>total_cu_tl</th>\n",
              "      <td>0.011375</td>\n",
              "    </tr>\n",
              "    <tr>\n",
              "      <th>open_rv_12m</th>\n",
              "      <td>0.011325</td>\n",
              "    </tr>\n",
              "    <tr>\n",
              "      <th>open_il_24m</th>\n",
              "      <td>0.011247</td>\n",
              "    </tr>\n",
              "    <tr>\n",
              "      <th>open_il_6m</th>\n",
              "      <td>0.010996</td>\n",
              "    </tr>\n",
              "    <tr>\n",
              "      <th>inq_last_12m</th>\n",
              "      <td>0.010847</td>\n",
              "    </tr>\n",
              "    <tr>\n",
              "      <th>open_rv_24m</th>\n",
              "      <td>0.010836</td>\n",
              "    </tr>\n",
              "    <tr>\n",
              "      <th>total_bal_il</th>\n",
              "      <td>0.010640</td>\n",
              "    </tr>\n",
              "    <tr>\n",
              "      <th>max_bal_bc</th>\n",
              "      <td>0.010544</td>\n",
              "    </tr>\n",
              "    <tr>\n",
              "      <th>all_util</th>\n",
              "      <td>0.010544</td>\n",
              "    </tr>\n",
              "    <tr>\n",
              "      <th>inq_last_6mths</th>\n",
              "      <td>0.010484</td>\n",
              "    </tr>\n",
              "    <tr>\n",
              "      <th>mths_since_rcnt_il</th>\n",
              "      <td>0.010262</td>\n",
              "    </tr>\n",
              "    <tr>\n",
              "      <th>il_util</th>\n",
              "      <td>0.009145</td>\n",
              "    </tr>\n",
              "    <tr>\n",
              "      <th>mths_since_last_major_derog</th>\n",
              "      <td>0.005777</td>\n",
              "    </tr>\n",
              "    <tr>\n",
              "      <th>mths_since_last_delinq</th>\n",
              "      <td>0.005753</td>\n",
              "    </tr>\n",
              "    <tr>\n",
              "      <th>total_acc</th>\n",
              "      <td>0.005050</td>\n",
              "    </tr>\n",
              "    <tr>\n",
              "      <th>revol_bal</th>\n",
              "      <td>0.004644</td>\n",
              "    </tr>\n",
              "    <tr>\n",
              "      <th>initial_list_status</th>\n",
              "      <td>0.004452</td>\n",
              "    </tr>\n",
              "  </tbody>\n",
              "</table>\n",
              "</div><br><label><b>dtype:</b> float64</label>"
            ]
          },
          "metadata": {},
          "execution_count": 45
        }
      ]
    },
    {
      "cell_type": "code",
      "source": [
        "def _bin_numeric_with_missing(s: pd.Series, bins=10):\n",
        "    s = s.copy()\n",
        "    mask = s.notna()\n",
        "    if mask.sum() == 0:\n",
        "        return pd.Series(['MISSING'] * len(s), index=s.index, dtype=\"object\")\n",
        "\n",
        "    uniq = s[mask].nunique()\n",
        "    nbins = max(1, min(int(bins), int(uniq)))\n",
        "\n",
        "    # Bin REAL values (not ranks) for interpretable labels\n",
        "    try:\n",
        "        binned = pd.qcut(s[mask], q=nbins, duplicates='drop')\n",
        "    except Exception:\n",
        "        # fallback to equal-width if qcut keeps failing\n",
        "        try:\n",
        "            binned = pd.cut(s[mask], bins=min(nbins, 10))\n",
        "        except Exception:\n",
        "            binned = pd.Series(['BIN_ALL'] * mask.sum(), index=s[mask].index, dtype=\"object\")\n",
        "\n",
        "    out = pd.Series(index=s.index, dtype=\"object\")\n",
        "    out[mask]  = binned.astype(str)\n",
        "    out[~mask] = 'MISSING'\n",
        "    return out\n",
        "\n",
        "def woe_iv_for_binned(bins: pd.Series, y: pd.Series) -> pd.DataFrame:\n",
        "    \"\"\"Compute WOE/IV per bin + total IV with SAFE alignment.\"\"\"\n",
        "    # Align on intersection of indexes; drop rows with missing target\n",
        "    df_xy = (\n",
        "        pd.concat([bins.rename('bin'), y.rename('y')], axis=1, join='inner')\n",
        "          .dropna(subset=['y'])\n",
        "    )\n",
        "\n",
        "    g = (\n",
        "        df_xy.groupby('bin', dropna=False)['y']\n",
        "             .agg(event='sum', total='count')\n",
        "             .reset_index()\n",
        "    )\n",
        "    g['non_event'] = g['total'] - g['event']\n",
        "\n",
        "    total_event = g['event'].sum()\n",
        "    total_nonevent = g['non_event'].sum()\n",
        "    EPS = 1e-6\n",
        "    g['dist_event']    = (g['event'] + EPS) / (total_event    + 2*EPS)\n",
        "    g['dist_nonevent'] = (g['non_event'] + EPS) / (total_nonevent + 2*EPS)\n",
        "    g['woe'] = np.log(g['dist_event'] / g['dist_nonevent'])\n",
        "    g['iv']  = (g['dist_event'] - g['dist_nonevent']) * g['woe']\n",
        "    g = g.sort_values('woe').reset_index(drop=True)\n",
        "    g.attrs['iv_total'] = float(g['iv'].sum())\n",
        "    return g\n"
      ],
      "metadata": {
        "id": "NKLfHKKGCiXq"
      },
      "execution_count": null,
      "outputs": []
    },
    {
      "cell_type": "code",
      "source": [
        "df2 = df[df['target_bad'].notna()].copy()      # you can also reset_index(drop=True)\n",
        "\n",
        "b = _bin_numeric_with_missing(df2['tot_cur_bal'], bins=10)\n",
        "tbl = woe_iv_for_binned(b, df2['target_bad'])\n",
        "tbl['event_rate'] = tbl['event'] / tbl['total']\n",
        "\n",
        "print(tbl[['bin','event','non_event','total','event_rate']])\n",
        "print(\"Sum totals:\", tbl['total'].sum(), \" vs rows:\", len(df2))"
      ],
      "metadata": {
        "id": "4V4SrxjJ7gNa",
        "outputId": "e626eb0e-869a-495b-bdbd-09addef7a443",
        "colab": {
          "base_uri": "https://localhost:8080/"
        }
      },
      "execution_count": null,
      "outputs": [
        {
          "output_type": "stream",
          "name": "stdout",
          "text": [
            "                      bin  event  non_event  total  event_rate\n",
            "0                 MISSING  10158      53689  63847    0.159099\n",
            "1   (328333.5, 8000078.0]   3294      16900  20194    0.163118\n",
            "2    (237475.0, 328333.5]   3836      16356  20192    0.189976\n",
            "3    (179781.2, 237475.0]   4313      15881  20194    0.213578\n",
            "4    (130007.4, 179781.2]   4617      15577  20194    0.228632\n",
            "5     (79124.0, 130007.4]   4974      15219  20193    0.246323\n",
            "6       (-0.001, 13761.0]   4997      15198  20195    0.247437\n",
            "7      (23351.0, 33839.0]   5407      14786  20193    0.267766\n",
            "8      (13761.0, 23351.0]   5428      14765  20193    0.268806\n",
            "9      (49158.2, 79124.0]   5500      14693  20193    0.272372\n",
            "10     (33839.0, 49158.2]   5534      14659  20193    0.274055\n",
            "Sum totals: 265781  vs rows: 265781\n"
          ]
        }
      ]
    },
    {
      "cell_type": "code",
      "source": [
        "#tot_coll_amt=total collection ammount(#이렇게 자르는게 맞나 빈 구간을)\n",
        "()\n",
        "#int_rate iv and woe\n",
        "df2 = df[df['target_bad'].notna()].copy()      # you can also reset_index(drop=True)\n",
        "\n",
        "b = _bin_numeric_with_missing(df2['tot_coll_amt'], bins=10)\n",
        "tbl = woe_iv_for_binned(b, df2['target_bad'])\n",
        "tbl['event_rate'] = tbl['event'] / tbl['total']\n",
        "\n",
        "print(tbl[['bin','event','non_event','total','event_rate']])\n",
        "print(\"Sum totals:\", tbl['total'].sum(), \" vs rows:\", len(df2))"
      ],
      "metadata": {
        "colab": {
          "base_uri": "https://localhost:8080/"
        },
        "id": "F0tMaTmqV_FP",
        "outputId": "8ff19daf-0244-415b-84c6-5914ad41c02a"
      },
      "execution_count": null,
      "outputs": [
        {
          "output_type": "stream",
          "name": "stdout",
          "text": [
            "                 bin  event  non_event   total  event_rate\n",
            "0            MISSING  10158      53689   63847    0.159099\n",
            "1     (-0.001, 82.0]  42732     139045  181777    0.235079\n",
            "2  (82.0, 9152545.0]   5168      14989   20157    0.256387\n",
            "Sum totals: 265781  vs rows: 265781\n"
          ]
        }
      ]
    },
    {
      "cell_type": "code",
      "source": [
        "#delinq_2yrs=delinquencies(more than 30 days) in 2 years\n",
        "df2 = df[df['target_bad'].notna()].copy()      # you can also reset_index(drop=True)\n",
        "\n",
        "b = _bin_numeric_with_missing(df2['delinq_2yrs'], bins=10)\n",
        "tbl = woe_iv_for_binned(b, df2['target_bad'])\n",
        "tbl['event_rate'] = tbl['event'] / tbl['total']\n",
        "\n",
        "print(tbl[['bin','event','non_event','total','event_rate']])\n",
        "print(\"Sum totals:\", tbl['total'].sum(), \" vs rows:\", len(df2))"
      ],
      "metadata": {
        "colab": {
          "base_uri": "https://localhost:8080/"
        },
        "id": "l_U3edWQdIlB",
        "outputId": "14ff91d3-d7c8-42e7-e4d4-85123b509679"
      },
      "execution_count": null,
      "outputs": [
        {
          "output_type": "stream",
          "name": "stdout",
          "text": [
            "             bin  event  non_event   total  event_rate\n",
            "0  (-0.001, 1.0]  54409     197726  252135    0.215793\n",
            "1    (1.0, 29.0]   3649       9997   13646    0.267404\n",
            "Sum totals: 265781  vs rows: 265781\n"
          ]
        }
      ]
    },
    {
      "cell_type": "code",
      "source": [
        "!pip install xlsxwriter\n"
      ],
      "metadata": {
        "colab": {
          "base_uri": "https://localhost:8080/"
        },
        "id": "M1NpcM_4yGK9",
        "outputId": "96110528-b094-4497-c830-f99d3af2f63d"
      },
      "execution_count": null,
      "outputs": [
        {
          "output_type": "stream",
          "name": "stdout",
          "text": [
            "Requirement already satisfied: xlsxwriter in /usr/local/lib/python3.12/dist-packages (3.2.9)\n"
          ]
        }
      ]
    },
    {
      "cell_type": "code",
      "source": [
        "import pandas as pd\n",
        "import numpy as np\n",
        "\n",
        "# Keep only rows with target present\n",
        "df2 = df[df['target_bad'].notna()].copy()\n",
        "\n",
        "features = [\n",
        "    'int_rate','dti','tot_cur_bal','revol_util','total_rev_hi_lim','annual_inc',\n",
        "    'tot_coll_amt','funded_amnt','open_il_12m','inq_fi','open_acc_6m','total_cu_tl',\n",
        "    'open_rv_12m','open_il_24m','open_il_6m','inq_last_12m','total_bal_il','max_bal_bc',\n",
        "    'all_util','inq_last_6mths','mths_since_rcnt_il','il_util',\n",
        "    'mths_since_last_major_derog','mths_since_last_delinq','total_acc','delinq_2yrs',\n",
        "    'open_acc','mths_since_last_record','pub_rec','collections_12_mths_ex_med',\n",
        "    'policy_code','acc_now_delinq'\n",
        "]\n",
        "\n",
        "all_rows = []\n",
        "for feat in features:\n",
        "    if feat not in df2.columns:\n",
        "        print(f\"[skip] {feat}: not in df\")\n",
        "        continue\n",
        "    s = df2[feat]\n",
        "    try:\n",
        "        # binning\n",
        "        if pd.api.types.is_numeric_dtype(s):\n",
        "            b = _bin_numeric_with_missing(s, bins=10)\n",
        "        else:\n",
        "            b = _bin_categorical_with_missing(s, max_levels=50)\n",
        "\n",
        "        tbl = woe_iv_for_binned(b, df2['target_bad'])\n",
        "        tbl['event_rate'] = tbl['event'] / tbl['total']\n",
        "\n",
        "        # add feature name\n",
        "        tbl.insert(0, 'feature', feat)\n",
        "\n",
        "        # keep main columns\n",
        "        out = tbl[['feature','bin','event','non_event','total','event_rate']].copy()\n",
        "\n",
        "        # append to big list\n",
        "        all_rows.append(out)\n",
        "\n",
        "        # 👉 add an empty row (NaNs) for spacing\n",
        "        all_rows.append(pd.DataFrame([[feat, None, None, None, None, None]],\n",
        "                                     columns=['feature','bin','event','non_event','total','event_rate']))\n",
        "\n",
        "    except Exception as e:\n",
        "        print(f\"[error] {feat}: {e}\")\n",
        "\n",
        "# concatenate\n",
        "ALL = pd.concat(all_rows, ignore_index=True)\n",
        "\n",
        "# save one-sheet Excel\n",
        "out_path = \"woe_iv_all_in_one_spaced.xlsx\"\n",
        "with pd.ExcelWriter(out_path, engine=\"openpyxl\") as writer:\n",
        "    ALL.to_excel(writer, sheet_name=\"ALL\", index=False)\n",
        "\n",
        "print(\"Saved ->\", out_path)\n",
        "\n",
        "# In Colab, download:\n",
        "# from google.colab import files\n",
        "# files.download(out_path)\n"
      ],
      "metadata": {
        "colab": {
          "base_uri": "https://localhost:8080/"
        },
        "id": "PSYsWb2OANMb",
        "outputId": "751142e2-5c9b-45e1-a79d-373d411bf9c5"
      },
      "execution_count": null,
      "outputs": [
        {
          "output_type": "stream",
          "name": "stderr",
          "text": [
            "/tmp/ipython-input-568706845.py:50: FutureWarning: The behavior of DataFrame concatenation with empty or all-NA entries is deprecated. In a future version, this will no longer exclude empty or all-NA columns when determining the result dtypes. To retain the old behavior, exclude the relevant entries before the concat operation.\n",
            "  ALL = pd.concat(all_rows, ignore_index=True)\n"
          ]
        },
        {
          "output_type": "stream",
          "name": "stdout",
          "text": [
            "Saved -> woe_iv_all_in_one_spaced.xlsx\n"
          ]
        }
      ]
    },
    {
      "cell_type": "code",
      "source": [
        "!ls -lh\n"
      ],
      "metadata": {
        "colab": {
          "base_uri": "https://localhost:8080/"
        },
        "id": "7PGs68VYyxCI",
        "outputId": "6ea02075-be21-4cf8-82e7-6fef899e2043"
      },
      "execution_count": null,
      "outputs": [
        {
          "output_type": "stream",
          "name": "stdout",
          "text": [
            "total 56K\n",
            "-rw-r--r-- 1 root root 1.1K Sep 24 18:10 kept_features_iv.csv\n",
            "drwxr-xr-x 1 root root 4.0K Sep 23 13:39 sample_data\n",
            "-rw-r--r-- 1 root root  16K Sep 24 19:40 woe_iv_all_in_one_spaced.xlsx\n",
            "-rw-r--r-- 1 root root  266 Sep 24 18:10 xgb_tree0\n",
            "-rw-r--r-- 1 root root  12K Sep 24 18:10 xgb_tree0.pdf\n",
            "-rw-r--r-- 1 root root  261 Sep 24 18:10 xgb_tree1\n",
            "-rw-r--r-- 1 root root  12K Sep 24 18:10 xgb_tree1.pdf\n"
          ]
        }
      ]
    },
    {
      "cell_type": "code",
      "source": [
        "from google.colab import files\n",
        "files.download(\"woe_iv_all_in_one_spaced.xlsx\")\n"
      ],
      "metadata": {
        "colab": {
          "base_uri": "https://localhost:8080/",
          "height": 17
        },
        "id": "P7zpXiHgy6Ol",
        "outputId": "b6149e12-977f-4d76-d567-997cf7890e22"
      },
      "execution_count": null,
      "outputs": [
        {
          "output_type": "display_data",
          "data": {
            "text/plain": [
              "<IPython.core.display.Javascript object>"
            ],
            "application/javascript": [
              "\n",
              "    async function download(id, filename, size) {\n",
              "      if (!google.colab.kernel.accessAllowed) {\n",
              "        return;\n",
              "      }\n",
              "      const div = document.createElement('div');\n",
              "      const label = document.createElement('label');\n",
              "      label.textContent = `Downloading \"${filename}\": `;\n",
              "      div.appendChild(label);\n",
              "      const progress = document.createElement('progress');\n",
              "      progress.max = size;\n",
              "      div.appendChild(progress);\n",
              "      document.body.appendChild(div);\n",
              "\n",
              "      const buffers = [];\n",
              "      let downloaded = 0;\n",
              "\n",
              "      const channel = await google.colab.kernel.comms.open(id);\n",
              "      // Send a message to notify the kernel that we're ready.\n",
              "      channel.send({})\n",
              "\n",
              "      for await (const message of channel.messages) {\n",
              "        // Send a message to notify the kernel that we're ready.\n",
              "        channel.send({})\n",
              "        if (message.buffers) {\n",
              "          for (const buffer of message.buffers) {\n",
              "            buffers.push(buffer);\n",
              "            downloaded += buffer.byteLength;\n",
              "            progress.value = downloaded;\n",
              "          }\n",
              "        }\n",
              "      }\n",
              "      const blob = new Blob(buffers, {type: 'application/binary'});\n",
              "      const a = document.createElement('a');\n",
              "      a.href = window.URL.createObjectURL(blob);\n",
              "      a.download = filename;\n",
              "      div.appendChild(a);\n",
              "      a.click();\n",
              "      div.remove();\n",
              "    }\n",
              "  "
            ]
          },
          "metadata": {}
        },
        {
          "output_type": "display_data",
          "data": {
            "text/plain": [
              "<IPython.core.display.Javascript object>"
            ],
            "application/javascript": [
              "download(\"download_8d5db2eb-45f3-4981-b0ec-426c924bb535\", \"woe_iv_all_in_one_spaced.xlsx\", 16069)"
            ]
          },
          "metadata": {}
        }
      ]
    },
    {
      "cell_type": "code",
      "source": [
        "import numpy as np\n",
        "import pandas as pd\n",
        "\n",
        "# --- inputs you already have ---\n",
        "# df: your dataframe\n",
        "# iv_sorted: pd.Series mapping feature -> IV (descending)\n",
        "# IGNORE: set of columns to ignore\n",
        "TARGET = 'target_bad'  # adjust if you used a different name\n",
        "THRESH = 0.8         # correlation threshold\n",
        "\n",
        "# 1) choose candidate numeric features\n",
        "candidates = [\n",
        "    c for c in df.columns\n",
        "    if c not in IGNORE and c != TARGET and pd.api.types.is_numeric_dtype(df[c])\n",
        "]\n",
        "\n",
        "# 2) correlation matrix (absolute), only over candidates\n",
        "corr = df[candidates].corr(numeric_only=True).abs()\n",
        "\n",
        "# 3) ensure we have IV values for all candidates (default 0.0 if missing)\n",
        "iv_map = iv_sorted.to_dict()\n",
        "for c in candidates:\n",
        "    if c not in iv_map:\n",
        "        iv_map[c] = 0.0\n",
        "\n",
        "# 4) sort candidates by IV descending (higher IV first → kept preferentially)\n",
        "ordered = sorted(candidates, key=lambda c: iv_map.get(c, 0.0), reverse=True)\n",
        "\n",
        "# 5) greedy selection: keep feature if it's not >THRESH correlated with any kept feature\n",
        "kept = []\n",
        "dropped = {}  # feature -> reason (conflicts with which kept feature)\n",
        "\n",
        "for col in ordered:\n",
        "    # skip columns that are all-NaN in corr\n",
        "    if col not in corr.columns:\n",
        "        continue\n",
        "    # check correlation vs already kept\n",
        "    too_correlated_with = None\n",
        "    for k in kept:\n",
        "        # if either column is missing from corr (rare), skip safely\n",
        "        if col in corr.index and k in corr.columns:\n",
        "            if corr.loc[col, k] > THRESH:\n",
        "                too_correlated_with = k\n",
        "                break\n",
        "    if too_correlated_with is None:\n",
        "        kept.append(col)\n",
        "    else:\n",
        "        dropped[col] = f\"corr({col}, {too_correlated_with}) = {corr.loc[col, too_correlated_with]:.2f} > {THRESH}\"\n",
        "\n",
        "print(f\"Kept ({len(kept)}):\", kept)\n",
        "print(f\"Dropped ({len(dropped)}):\")\n",
        "for c, reason in dropped.items():\n",
        "    print(f\"  - {c}: {reason}\")\n",
        "\n",
        "# Optionally build a reduced dataframe\n",
        "df_reduced = df.drop(columns=list(dropped.keys()), errors='ignore')\n",
        "print(\"Original shape:\", df.shape, \"→ Reduced shape:\", df_reduced.shape)\n"
      ],
      "metadata": {
        "colab": {
          "base_uri": "https://localhost:8080/"
        },
        "id": "BvpBk8fYo1nT",
        "outputId": "e7eb60fb-3dfc-4735-c668-9eb21df4d8ab"
      },
      "execution_count": null,
      "outputs": [
        {
          "output_type": "stream",
          "name": "stdout",
          "text": [
            "Kept (32): ['int_rate', 'dti', 'tot_cur_bal', 'revol_util', 'total_rev_hi_lim', 'annual_inc', 'tot_coll_amt', 'funded_amnt', 'open_il_12m', 'inq_fi', 'open_acc_6m', 'total_cu_tl', 'open_rv_12m', 'open_il_24m', 'open_il_6m', 'inq_last_12m', 'total_bal_il', 'max_bal_bc', 'all_util', 'inq_last_6mths', 'mths_since_rcnt_il', 'il_util', 'mths_since_last_major_derog', 'mths_since_last_delinq', 'total_acc', 'delinq_2yrs', 'open_acc', 'mths_since_last_record', 'pub_rec', 'collections_12_mths_ex_med', 'policy_code', 'acc_now_delinq']\n",
            "Dropped (7):\n",
            "  - funded_amnt_inv: corr(funded_amnt_inv, funded_amnt) = 0.99 > 0.8\n",
            "  - loan_amnt: corr(loan_amnt, funded_amnt) = 1.00 > 0.8\n",
            "  - installment: corr(installment, funded_amnt) = 0.96 > 0.8\n",
            "  - open_rv_24m: corr(open_rv_24m, open_rv_12m) = 0.80 > 0.8\n",
            "  - revol_bal: corr(revol_bal, total_rev_hi_lim) = 0.83 > 0.8\n",
            "  - annual_inc_joint: corr(annual_inc_joint, dti) = 0.95 > 0.8\n",
            "  - dti_joint: corr(dti_joint, int_rate) = 0.99 > 0.8\n",
            "Original shape: (265781, 75) → Reduced shape: (265781, 68)\n"
          ]
        }
      ]
    },
    {
      "cell_type": "code",
      "source": [
        "# ===== AFTER your pruning block =====\n",
        "# Assumes: df, kept, TARGET, THRESH, and your IV/WOE helpers (calc_iv, etc.) already exist.\n",
        "\n",
        "import pandas as pd\n",
        "import numpy as np\n",
        "import matplotlib.pyplot as plt\n",
        "import seaborn as sns\n",
        "\n",
        "# 1) Recompute IV for kept features\n",
        "kept_iv = {}\n",
        "kept_woe_tables = {}\n",
        "\n",
        "for col in kept:\n",
        "    if col not in df.columns:\n",
        "        continue\n",
        "    try:\n",
        "        wt = calc_iv(df, col, TARGET, bins=10, max_levels=50)\n",
        "        kept_iv[col] = wt.attrs.get('iv_total', float(wt['iv'].sum()))\n",
        "        kept_woe_tables[col] = wt\n",
        "    except Exception as e:\n",
        "        # Skip columns that fail (e.g., all-NaN), or print if you want\n",
        "        # print(f\"IV failed for {col}: {e}\")\n",
        "        pass\n",
        "\n",
        "iv_kept_df = (\n",
        "    pd.Series(kept_iv, name='IV')\n",
        "    .to_frame()\n",
        "    .sort_values('IV', ascending=False)\n",
        ")\n",
        "print(\"=== Kept features with IV (sorted) ===\")\n",
        "print(iv_kept_df)\n",
        "\n",
        "# 2) Save IV table\n",
        "iv_kept_df.to_csv('kept_features_iv.csv', index=True)\n",
        "print(\"Saved IV table to kept_features_iv.csv\")\n",
        "\n",
        "# 3) Correlation heatmap among kept features, showing only > THRESH\n",
        "kept_numeric = [c for c in kept if pd.api.types.is_numeric_dtype(df[c])]\n",
        "corr_kept = df[kept_numeric].corr(numeric_only=True).abs()\n",
        "\n",
        "# mask correlations <= THRESH to declutter the plot\n",
        "corr_masked = corr_kept.mask(corr_kept <= THRESH)\n",
        "\n",
        "plt.figure(figsize=(18, 14))\n",
        "sns.heatmap(\n",
        "    corr_masked,\n",
        "    cmap=\"coolwarm\",\n",
        "    center=0,\n",
        "    annot=True,\n",
        "    fmt=\".2f\",\n",
        "    linewidths=0.5,\n",
        "    cbar_kws={\"shrink\": .8}\n",
        ")\n",
        "plt.title(f\"Correlation Heatmap Among Kept Features (only > {THRESH} shown)\")\n",
        "plt.show()\n",
        "\n",
        "# 4) Optional: Top-N bar chart of kept features by IV\n",
        "topN = 20\n",
        "ax = iv_kept_df.head(topN).plot(kind='barh', figsize=(8, 10))\n",
        "ax.invert_yaxis()\n",
        "ax.set_title(f'Top {topN} Kept Features by IV')\n",
        "ax.set_xlabel('Information Value')\n",
        "ax.set_ylabel('Feature')\n",
        "plt.show()\n",
        "\n",
        "# 5) (Optional) Peek a specific WOE table, e.g. 'annual_inc'\n",
        "# kept_woe_tables['annual_inc']\n"
      ],
      "metadata": {
        "colab": {
          "base_uri": "https://localhost:8080/",
          "height": 1000
        },
        "id": "_RYpXGb9qJoV",
        "outputId": "31fd1df6-b063-4aba-a39a-553bb7d1e15d"
      },
      "execution_count": null,
      "outputs": [
        {
          "output_type": "stream",
          "name": "stdout",
          "text": [
            "=== Kept features with IV (sorted) ===\n",
            "                                       IV\n",
            "int_rate                     4.088902e-01\n",
            "dti                          1.031493e-01\n",
            "tot_cur_bal                  7.453659e-02\n",
            "revol_util                   6.437044e-02\n",
            "total_rev_hi_lim             6.093220e-02\n",
            "annual_inc                   4.826914e-02\n",
            "tot_coll_amt                 4.244503e-02\n",
            "funded_amnt                  3.337353e-02\n",
            "open_il_12m                  1.167490e-02\n",
            "inq_fi                       1.157853e-02\n",
            "open_acc_6m                  1.138785e-02\n",
            "total_cu_tl                  1.137450e-02\n",
            "open_rv_12m                  1.132487e-02\n",
            "open_il_24m                  1.124653e-02\n",
            "open_il_6m                   1.099584e-02\n",
            "inq_last_12m                 1.084676e-02\n",
            "total_bal_il                 1.064020e-02\n",
            "max_bal_bc                   1.054352e-02\n",
            "all_util                     1.054352e-02\n",
            "inq_last_6mths               1.048390e-02\n",
            "mths_since_rcnt_il           1.026247e-02\n",
            "il_util                      9.144639e-03\n",
            "mths_since_last_major_derog  5.777485e-03\n",
            "mths_since_last_delinq       5.752583e-03\n",
            "total_acc                    5.049946e-03\n",
            "delinq_2yrs                  4.159935e-03\n",
            "open_acc                     3.326130e-03\n",
            "mths_since_last_record       2.407386e-03\n",
            "pub_rec                      8.934957e-04\n",
            "collections_12_mths_ex_med   1.161570e-04\n",
            "policy_code                  1.540099e-22\n",
            "acc_now_delinq               1.540099e-22\n",
            "Saved IV table to kept_features_iv.csv\n"
          ]
        },
        {
          "output_type": "display_data",
          "data": {
            "text/plain": [
              "<Figure size 1800x1400 with 2 Axes>"
            ],
            "image/png": "[encoded data removed]"
          },
          "metadata": {}
        },
        {
          "output_type": "display_data",
          "data": {
            "text/plain": [
              "<Figure size 800x1000 with 1 Axes>"
            ],
            "image/png": "[encoded data removed]"
          },
          "metadata": {}
        }
      ]
    },
    {
      "cell_type": "code",
      "source": [
        "print(kept)"
      ],
      "metadata": {
        "colab": {
          "base_uri": "https://localhost:8080/"
        },
        "id": "TFM2mx346kRO",
        "outputId": "098f69aa-4c87-4b58-9fd4-416966cd7d75"
      },
      "execution_count": null,
      "outputs": [
        {
          "output_type": "stream",
          "name": "stdout",
          "text": [
            "['int_rate', 'dti', 'tot_cur_bal', 'revol_util', 'total_rev_hi_lim', 'annual_inc', 'tot_coll_amt', 'funded_amnt', 'open_il_12m', 'inq_fi', 'open_acc_6m', 'total_cu_tl', 'open_rv_12m', 'open_il_24m', 'open_il_6m', 'inq_last_12m', 'total_bal_il', 'max_bal_bc', 'all_util', 'inq_last_6mths', 'mths_since_rcnt_il', 'il_util', 'mths_since_last_major_derog', 'mths_since_last_delinq', 'total_acc', 'delinq_2yrs', 'open_acc', 'mths_since_last_record', 'pub_rec', 'collections_12_mths_ex_med', 'policy_code', 'acc_now_delinq']\n"
          ]
        }
      ]
    },
    {
      "cell_type": "code",
      "source": [
        "pip install xgboost scikit-learn\n"
      ],
      "metadata": {
        "colab": {
          "base_uri": "https://localhost:8080/"
        },
        "id": "ALOzjo56rqVw",
        "outputId": "3391e172-c0ca-40a7-c625-e341acaae2a4"
      },
      "execution_count": null,
      "outputs": [
        {
          "output_type": "stream",
          "name": "stdout",
          "text": [
            "Requirement already satisfied: xgboost in /usr/local/lib/python3.12/dist-packages (3.0.5)\n",
            "Requirement already satisfied: scikit-learn in /usr/local/lib/python3.12/dist-packages (1.6.1)\n",
            "Requirement already satisfied: numpy in /usr/local/lib/python3.12/dist-packages (from xgboost) (2.0.2)\n",
            "Requirement already satisfied: nvidia-nccl-cu12 in /usr/local/lib/python3.12/dist-packages (from xgboost) (2.27.3)\n",
            "Requirement already satisfied: scipy in /usr/local/lib/python3.12/dist-packages (from xgboost) (1.16.2)\n",
            "Requirement already satisfied: joblib>=1.2.0 in /usr/local/lib/python3.12/dist-packages (from scikit-learn) (1.5.2)\n",
            "Requirement already satisfied: threadpoolctl>=3.1.0 in /usr/local/lib/python3.12/dist-packages (from scikit-learn) (3.6.0)\n"
          ]
        }
      ]
    },
    {
      "cell_type": "code",
      "source": [
        "from sklearn.model_selection import train_test_split\n",
        "\n",
        "# Features you kept\n",
        "features = kept   # the list you built with correlation pruning\n",
        "TARGET = 'target_bad'\n",
        "\n",
        "X = df[features]\n",
        "y = df[TARGET]\n",
        "\n",
        "# Split into train and test sets (80/20 split)\n",
        "\n"
      ],
      "metadata": {
        "id": "6R9BfnFQrvxF"
      },
      "execution_count": null,
      "outputs": []
    },
    {
      "cell_type": "code",
      "source": [
        "from sklearn.metrics import roc_auc_score\n",
        "from sklearn.model_selection import train_test_split\n",
        "import xgboost as xgb\n",
        "\n",
        "X_train, X_valid, y_train, y_valid = train_test_split(\n",
        "    X, y, test_size=0.2, stratify=y, random_state=42\n",
        ")\n",
        "\n",
        "model = xgb.XGBClassifier(\n",
        "    n_estimators=300,\n",
        "    learning_rate=0.1,\n",
        "    max_depth=2,\n",
        "    subsample=0.8,\n",
        "    colsample_bytree=0.8,\n",
        "    scale_pos_weight=(y_train==0).sum()/(y_train==1).sum(),\n",
        "    eval_metric=\"auc\",\n",
        "    random_state=42\n",
        ")\n",
        "model.fit(X_train, y_train)\n",
        "\n",
        "pred = model.predict_proba(X_valid)[:,1]\n",
        "print(\"Validation AUC:\", roc_auc_score(y_valid, pred))\n"
      ],
      "metadata": {
        "colab": {
          "base_uri": "https://localhost:8080/"
        },
        "id": "RMC-nmybLUhf",
        "outputId": "c85a7f38-0645-4196-c35d-4c3bd3dbf1e5"
      },
      "execution_count": null,
      "outputs": [
        {
          "output_type": "stream",
          "name": "stdout",
          "text": [
            "Validation AUC: 0.7069178097184667\n"
          ]
        }
      ]
    },
    {
      "cell_type": "code",
      "source": [
        "from xgboost import plot_tree, to_graphviz\n"
      ],
      "metadata": {
        "id": "OHez-VsVKkl9"
      },
      "execution_count": null,
      "outputs": []
    },
    {
      "cell_type": "code",
      "source": [
        "model = xgb.XGBClassifier(\n",
        "    n_estimators=2,\n",
        "    learning_rate=1,\n",
        "    max_depth=1,\n",
        "    subsample=0.8,\n",
        "    colsample_bytree=0.8,\n",
        "    random_state=42,\n",
        "    eval_metric=\"auc\"\n",
        ")\n",
        "model.fit(X_train, y_train)\n",
        "\n",
        "# Tree 0\n",
        "dot0 = to_graphviz(model, tree_idx=0, rankdir=\"LR\")\n",
        "dot0.render(\"xgb_tree0\", format=\"pdf\")\n",
        "\n",
        "# Tree 1\n",
        "dot1 = to_graphviz(model, tree_idx=1, rankdir=\"LR\")\n",
        "dot1.render(\"xgb_tree1\", format=\"pdf\")\n",
        "from google.colab import files\n",
        "files.download(\"xgb_tree0.pdf\")\n",
        "files.download(\"xgb_tree1.pdf\")\n",
        "\n"
      ],
      "metadata": {
        "colab": {
          "base_uri": "https://localhost:8080/",
          "height": 17
        },
        "id": "nRM3BCZwr6Ox",
        "outputId": "8c4e1cab-41b1-417d-c08c-eb4868953745"
      },
      "execution_count": null,
      "outputs": [
        {
          "output_type": "display_data",
          "data": {
            "text/plain": [
              "<IPython.core.display.Javascript object>"
            ],
            "application/javascript": [
              "\n",
              "    async function download(id, filename, size) {\n",
              "      if (!google.colab.kernel.accessAllowed) {\n",
              "        return;\n",
              "      }\n",
              "      const div = document.createElement('div');\n",
              "      const label = document.createElement('label');\n",
              "      label.textContent = `Downloading \"${filename}\": `;\n",
              "      div.appendChild(label);\n",
              "      const progress = document.createElement('progress');\n",
              "      progress.max = size;\n",
              "      div.appendChild(progress);\n",
              "      document.body.appendChild(div);\n",
              "\n",
              "      const buffers = [];\n",
              "      let downloaded = 0;\n",
              "\n",
              "      const channel = await google.colab.kernel.comms.open(id);\n",
              "      // Send a message to notify the kernel that we're ready.\n",
              "      channel.send({})\n",
              "\n",
              "      for await (const message of channel.messages) {\n",
              "        // Send a message to notify the kernel that we're ready.\n",
              "        channel.send({})\n",
              "        if (message.buffers) {\n",
              "          for (const buffer of message.buffers) {\n",
              "            buffers.push(buffer);\n",
              "            downloaded += buffer.byteLength;\n",
              "            progress.value = downloaded;\n",
              "          }\n",
              "        }\n",
              "      }\n",
              "      const blob = new Blob(buffers, {type: 'application/binary'});\n",
              "      const a = document.createElement('a');\n",
              "      a.href = window.URL.createObjectURL(blob);\n",
              "      a.download = filename;\n",
              "      div.appendChild(a);\n",
              "      a.click();\n",
              "      div.remove();\n",
              "    }\n",
              "  "
            ]
          },
          "metadata": {}
        },
        {
          "output_type": "display_data",
          "data": {
            "text/plain": [
              "<IPython.core.display.Javascript object>"
            ],
            "application/javascript": [
              "download(\"download_2d0d8075-882b-443b-bed2-49a606a2c124\", \"xgb_tree0.pdf\", 11915)"
            ]
          },
          "metadata": {}
        },
        {
          "output_type": "display_data",
          "data": {
            "text/plain": [
              "<IPython.core.display.Javascript object>"
            ],
            "application/javascript": [
              "\n",
              "    async function download(id, filename, size) {\n",
              "      if (!google.colab.kernel.accessAllowed) {\n",
              "        return;\n",
              "      }\n",
              "      const div = document.createElement('div');\n",
              "      const label = document.createElement('label');\n",
              "      label.textContent = `Downloading \"${filename}\": `;\n",
              "      div.appendChild(label);\n",
              "      const progress = document.createElement('progress');\n",
              "      progress.max = size;\n",
              "      div.appendChild(progress);\n",
              "      document.body.appendChild(div);\n",
              "\n",
              "      const buffers = [];\n",
              "      let downloaded = 0;\n",
              "\n",
              "      const channel = await google.colab.kernel.comms.open(id);\n",
              "      // Send a message to notify the kernel that we're ready.\n",
              "      channel.send({})\n",
              "\n",
              "      for await (const message of channel.messages) {\n",
              "        // Send a message to notify the kernel that we're ready.\n",
              "        channel.send({})\n",
              "        if (message.buffers) {\n",
              "          for (const buffer of message.buffers) {\n",
              "            buffers.push(buffer);\n",
              "            downloaded += buffer.byteLength;\n",
              "            progress.value = downloaded;\n",
              "          }\n",
              "        }\n",
              "      }\n",
              "      const blob = new Blob(buffers, {type: 'application/binary'});\n",
              "      const a = document.createElement('a');\n",
              "      a.href = window.URL.createObjectURL(blob);\n",
              "      a.download = filename;\n",
              "      div.appendChild(a);\n",
              "      a.click();\n",
              "      div.remove();\n",
              "    }\n",
              "  "
            ]
          },
          "metadata": {}
        },
        {
          "output_type": "display_data",
          "data": {
            "text/plain": [
              "<IPython.core.display.Javascript object>"
            ],
            "application/javascript": [
              "download(\"download_82ea2ba2-3a27-4819-ba4f-09679b24516a\", \"xgb_tree1.pdf\", 11775)"
            ]
          },
          "metadata": {}
        }
      ]
    },
    {
      "cell_type": "code",
      "source": [
        "from google.colab import files\n",
        "files.download(\"xgb_tree0.pdf\")\n",
        "files.download(\"xgb_tree1.pdf\")"
      ],
      "metadata": {
        "colab": {
          "base_uri": "https://localhost:8080/",
          "height": 17
        },
        "id": "RtiEVpX6vmFO",
        "outputId": "4eda93b7-83a2-4292-a832-3777ca29017d"
      },
      "execution_count": null,
      "outputs": [
        {
          "output_type": "display_data",
          "data": {
            "text/plain": [
              "<IPython.core.display.Javascript object>"
            ],
            "application/javascript": [
              "\n",
              "    async function download(id, filename, size) {\n",
              "      if (!google.colab.kernel.accessAllowed) {\n",
              "        return;\n",
              "      }\n",
              "      const div = document.createElement('div');\n",
              "      const label = document.createElement('label');\n",
              "      label.textContent = `Downloading \"${filename}\": `;\n",
              "      div.appendChild(label);\n",
              "      const progress = document.createElement('progress');\n",
              "      progress.max = size;\n",
              "      div.appendChild(progress);\n",
              "      document.body.appendChild(div);\n",
              "\n",
              "      const buffers = [];\n",
              "      let downloaded = 0;\n",
              "\n",
              "      const channel = await google.colab.kernel.comms.open(id);\n",
              "      // Send a message to notify the kernel that we're ready.\n",
              "      channel.send({})\n",
              "\n",
              "      for await (const message of channel.messages) {\n",
              "        // Send a message to notify the kernel that we're ready.\n",
              "        channel.send({})\n",
              "        if (message.buffers) {\n",
              "          for (const buffer of message.buffers) {\n",
              "            buffers.push(buffer);\n",
              "            downloaded += buffer.byteLength;\n",
              "            progress.value = downloaded;\n",
              "          }\n",
              "        }\n",
              "      }\n",
              "      const blob = new Blob(buffers, {type: 'application/binary'});\n",
              "      const a = document.createElement('a');\n",
              "      a.href = window.URL.createObjectURL(blob);\n",
              "      a.download = filename;\n",
              "      div.appendChild(a);\n",
              "      a.click();\n",
              "      div.remove();\n",
              "    }\n",
              "  "
            ]
          },
          "metadata": {}
        },
        {
          "output_type": "display_data",
          "data": {
            "text/plain": [
              "<IPython.core.display.Javascript object>"
            ],
            "application/javascript": [
              "download(\"download_b474af3e-6bcf-4ac0-bbd6-99d62b40168f\", \"xgb_tree0.pdf\", 11915)"
            ]
          },
          "metadata": {}
        },
        {
          "output_type": "display_data",
          "data": {
            "text/plain": [
              "<IPython.core.display.Javascript object>"
            ],
            "application/javascript": [
              "\n",
              "    async function download(id, filename, size) {\n",
              "      if (!google.colab.kernel.accessAllowed) {\n",
              "        return;\n",
              "      }\n",
              "      const div = document.createElement('div');\n",
              "      const label = document.createElement('label');\n",
              "      label.textContent = `Downloading \"${filename}\": `;\n",
              "      div.appendChild(label);\n",
              "      const progress = document.createElement('progress');\n",
              "      progress.max = size;\n",
              "      div.appendChild(progress);\n",
              "      document.body.appendChild(div);\n",
              "\n",
              "      const buffers = [];\n",
              "      let downloaded = 0;\n",
              "\n",
              "      const channel = await google.colab.kernel.comms.open(id);\n",
              "      // Send a message to notify the kernel that we're ready.\n",
              "      channel.send({})\n",
              "\n",
              "      for await (const message of channel.messages) {\n",
              "        // Send a message to notify the kernel that we're ready.\n",
              "        channel.send({})\n",
              "        if (message.buffers) {\n",
              "          for (const buffer of message.buffers) {\n",
              "            buffers.push(buffer);\n",
              "            downloaded += buffer.byteLength;\n",
              "            progress.value = downloaded;\n",
              "          }\n",
              "        }\n",
              "      }\n",
              "      const blob = new Blob(buffers, {type: 'application/binary'});\n",
              "      const a = document.createElement('a');\n",
              "      a.href = window.URL.createObjectURL(blob);\n",
              "      a.download = filename;\n",
              "      div.appendChild(a);\n",
              "      a.click();\n",
              "      div.remove();\n",
              "    }\n",
              "  "
            ]
          },
          "metadata": {}
        },
        {
          "output_type": "display_data",
          "data": {
            "text/plain": [
              "<IPython.core.display.Javascript object>"
            ],
            "application/javascript": [
              "download(\"download_aaba5358-a549-46fe-9afb-365bf40eeb55\", \"xgb_tree1.pdf\", 11775)"
            ]
          },
          "metadata": {}
        }
      ]
    }
  ]
}